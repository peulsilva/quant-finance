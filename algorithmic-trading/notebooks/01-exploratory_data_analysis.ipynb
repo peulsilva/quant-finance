{
 "cells": [
  {
   "cell_type": "code",
   "execution_count": 1,
   "metadata": {},
   "outputs": [],
   "source": [
    "%load_ext autoreload\n",
    "%autoreload 2"
   ]
  },
  {
   "cell_type": "code",
   "execution_count": 2,
   "metadata": {},
   "outputs": [],
   "source": [
    "import os\n",
    "if \"notebooks\" in os.getcwd():\n",
    "    os.chdir(\"..\")\n",
    "\n",
    "import pandas as pd \n",
    "import numpy as np\n",
    "import matplotlib.pyplot as plt\n",
    "import yfinance as yf"
   ]
  },
  {
   "attachments": {},
   "cell_type": "markdown",
   "metadata": {},
   "source": [
    "## Exploring data from EURBRL\n",
    "We will propose a intraday trading strategy using only US dolar and brazilian real currency"
   ]
  },
  {
   "cell_type": "code",
   "execution_count": 3,
   "metadata": {},
   "outputs": [
    {
     "name": "stdout",
     "output_type": "stream",
     "text": [
      "[*********************100%***********************]  1 of 1 completed\n"
     ]
    }
   ],
   "source": [
    "prices_df = yf.download(\n",
    "    tickers = \"USDBRL=X\",\n",
    "    period = \"60d\",\n",
    "    interval = \"5m\",\n",
    "    prepost = False\n",
    ")"
   ]
  },
  {
   "cell_type": "code",
   "execution_count": 4,
   "metadata": {},
   "outputs": [
    {
     "data": {
      "text/html": [
       "<div>\n",
       "<style scoped>\n",
       "    .dataframe tbody tr th:only-of-type {\n",
       "        vertical-align: middle;\n",
       "    }\n",
       "\n",
       "    .dataframe tbody tr th {\n",
       "        vertical-align: top;\n",
       "    }\n",
       "\n",
       "    .dataframe thead th {\n",
       "        text-align: right;\n",
       "    }\n",
       "</style>\n",
       "<table border=\"1\" class=\"dataframe\">\n",
       "  <thead>\n",
       "    <tr style=\"text-align: right;\">\n",
       "      <th></th>\n",
       "      <th>Open</th>\n",
       "      <th>High</th>\n",
       "      <th>Low</th>\n",
       "      <th>Close</th>\n",
       "      <th>Adj Close</th>\n",
       "      <th>Volume</th>\n",
       "    </tr>\n",
       "    <tr>\n",
       "      <th>Datetime</th>\n",
       "      <th></th>\n",
       "      <th></th>\n",
       "      <th></th>\n",
       "      <th></th>\n",
       "      <th></th>\n",
       "      <th></th>\n",
       "    </tr>\n",
       "  </thead>\n",
       "  <tbody>\n",
       "    <tr>\n",
       "      <th>2022-11-15 00:00:00+00:00</th>\n",
       "      <td>5.3132</td>\n",
       "      <td>5.3321</td>\n",
       "      <td>5.3132</td>\n",
       "      <td>5.3321</td>\n",
       "      <td>5.3321</td>\n",
       "      <td>0</td>\n",
       "    </tr>\n",
       "    <tr>\n",
       "      <th>2022-11-15 00:10:00+00:00</th>\n",
       "      <td>5.3321</td>\n",
       "      <td>5.3321</td>\n",
       "      <td>5.3321</td>\n",
       "      <td>5.3321</td>\n",
       "      <td>5.3321</td>\n",
       "      <td>0</td>\n",
       "    </tr>\n",
       "    <tr>\n",
       "      <th>2022-11-15 00:15:00+00:00</th>\n",
       "      <td>5.3321</td>\n",
       "      <td>5.3321</td>\n",
       "      <td>5.3321</td>\n",
       "      <td>5.3321</td>\n",
       "      <td>5.3321</td>\n",
       "      <td>0</td>\n",
       "    </tr>\n",
       "    <tr>\n",
       "      <th>2022-11-15 00:25:00+00:00</th>\n",
       "      <td>5.3321</td>\n",
       "      <td>5.3321</td>\n",
       "      <td>5.3132</td>\n",
       "      <td>5.3132</td>\n",
       "      <td>5.3132</td>\n",
       "      <td>0</td>\n",
       "    </tr>\n",
       "    <tr>\n",
       "      <th>2022-11-15 00:30:00+00:00</th>\n",
       "      <td>5.3132</td>\n",
       "      <td>5.3321</td>\n",
       "      <td>5.3132</td>\n",
       "      <td>5.3132</td>\n",
       "      <td>5.3132</td>\n",
       "      <td>0</td>\n",
       "    </tr>\n",
       "    <tr>\n",
       "      <th>...</th>\n",
       "      <td>...</td>\n",
       "      <td>...</td>\n",
       "      <td>...</td>\n",
       "      <td>...</td>\n",
       "      <td>...</td>\n",
       "      <td>...</td>\n",
       "    </tr>\n",
       "    <tr>\n",
       "      <th>2023-02-06 21:05:00+00:00</th>\n",
       "      <td>5.1520</td>\n",
       "      <td>5.1520</td>\n",
       "      <td>5.1467</td>\n",
       "      <td>5.1499</td>\n",
       "      <td>5.1499</td>\n",
       "      <td>0</td>\n",
       "    </tr>\n",
       "    <tr>\n",
       "      <th>2023-02-06 21:10:00+00:00</th>\n",
       "      <td>5.1505</td>\n",
       "      <td>5.1505</td>\n",
       "      <td>5.1432</td>\n",
       "      <td>5.1445</td>\n",
       "      <td>5.1445</td>\n",
       "      <td>0</td>\n",
       "    </tr>\n",
       "    <tr>\n",
       "      <th>2023-02-06 21:15:00+00:00</th>\n",
       "      <td>5.1437</td>\n",
       "      <td>5.1465</td>\n",
       "      <td>5.1427</td>\n",
       "      <td>5.1427</td>\n",
       "      <td>5.1427</td>\n",
       "      <td>0</td>\n",
       "    </tr>\n",
       "    <tr>\n",
       "      <th>2023-02-06 21:20:00+00:00</th>\n",
       "      <td>5.1437</td>\n",
       "      <td>5.1455</td>\n",
       "      <td>5.1427</td>\n",
       "      <td>5.1429</td>\n",
       "      <td>5.1429</td>\n",
       "      <td>0</td>\n",
       "    </tr>\n",
       "    <tr>\n",
       "      <th>2023-02-06 21:25:00+00:00</th>\n",
       "      <td>5.1437</td>\n",
       "      <td>5.1464</td>\n",
       "      <td>5.1402</td>\n",
       "      <td>5.1464</td>\n",
       "      <td>5.1464</td>\n",
       "      <td>0</td>\n",
       "    </tr>\n",
       "  </tbody>\n",
       "</table>\n",
       "<p>11310 rows × 6 columns</p>\n",
       "</div>"
      ],
      "text/plain": [
       "                             Open    High     Low   Close  Adj Close  Volume\n",
       "Datetime                                                                    \n",
       "2022-11-15 00:00:00+00:00  5.3132  5.3321  5.3132  5.3321     5.3321       0\n",
       "2022-11-15 00:10:00+00:00  5.3321  5.3321  5.3321  5.3321     5.3321       0\n",
       "2022-11-15 00:15:00+00:00  5.3321  5.3321  5.3321  5.3321     5.3321       0\n",
       "2022-11-15 00:25:00+00:00  5.3321  5.3321  5.3132  5.3132     5.3132       0\n",
       "2022-11-15 00:30:00+00:00  5.3132  5.3321  5.3132  5.3132     5.3132       0\n",
       "...                           ...     ...     ...     ...        ...     ...\n",
       "2023-02-06 21:05:00+00:00  5.1520  5.1520  5.1467  5.1499     5.1499       0\n",
       "2023-02-06 21:10:00+00:00  5.1505  5.1505  5.1432  5.1445     5.1445       0\n",
       "2023-02-06 21:15:00+00:00  5.1437  5.1465  5.1427  5.1427     5.1427       0\n",
       "2023-02-06 21:20:00+00:00  5.1437  5.1455  5.1427  5.1429     5.1429       0\n",
       "2023-02-06 21:25:00+00:00  5.1437  5.1464  5.1402  5.1464     5.1464       0\n",
       "\n",
       "[11310 rows x 6 columns]"
      ]
     },
     "execution_count": 4,
     "metadata": {},
     "output_type": "execute_result"
    }
   ],
   "source": [
    "prices_df"
   ]
  },
  {
   "cell_type": "code",
   "execution_count": 5,
   "metadata": {},
   "outputs": [
    {
     "data": {
      "text/plain": [
       "0    11310\n",
       "Name: Volume, dtype: int64"
      ]
     },
     "execution_count": 5,
     "metadata": {},
     "output_type": "execute_result"
    }
   ],
   "source": [
    "prices_df['Volume'].value_counts()"
   ]
  },
  {
   "cell_type": "code",
   "execution_count": 6,
   "metadata": {},
   "outputs": [
    {
     "data": {
      "text/plain": [
       "0"
      ]
     },
     "execution_count": 6,
     "metadata": {},
     "output_type": "execute_result"
    }
   ],
   "source": [
    "prices_df\\\n",
    "    .isna()\\\n",
    "    .sum()\\\n",
    "    .sum()"
   ]
  },
  {
   "cell_type": "code",
   "execution_count": 7,
   "metadata": {},
   "outputs": [],
   "source": [
    "prices_df['date'] = prices_df.index.date"
   ]
  },
  {
   "cell_type": "code",
   "execution_count": 8,
   "metadata": {},
   "outputs": [
    {
     "data": {
      "text/plain": [
       "False"
      ]
     },
     "execution_count": 8,
     "metadata": {},
     "output_type": "execute_result"
    }
   ],
   "source": [
    "(prices_df[\"Open\"] == prices_df[\"Close\"])\\\n",
    "    .all()"
   ]
  },
  {
   "cell_type": "code",
   "execution_count": 9,
   "metadata": {},
   "outputs": [
    {
     "data": {
      "text/plain": [
       "False"
      ]
     },
     "execution_count": 9,
     "metadata": {},
     "output_type": "execute_result"
    }
   ],
   "source": [
    "(prices_df[\"Open\"] == prices_df[\"High\"])\\\n",
    "    .all()"
   ]
  },
  {
   "cell_type": "code",
   "execution_count": 10,
   "metadata": {},
   "outputs": [],
   "source": [
    "avg_price = np.mean(prices_df['Open'])\n",
    "std_price = np.std(prices_df['Open'])"
   ]
  },
  {
   "cell_type": "code",
   "execution_count": 11,
   "metadata": {},
   "outputs": [
    {
     "data": {
      "text/plain": [
       "Text(0.5, 1.0, 'USDBRL prices variation in 60d')"
      ]
     },
     "execution_count": 11,
     "metadata": {},
     "output_type": "execute_result"
    },
    {
     "data": {
      "image/png": "[encoded data removed]",
      "text/plain": [
       "<Figure size 1152x720 with 1 Axes>"
      ]
     },
     "metadata": {
      "needs_background": "light"
     },
     "output_type": "display_data"
    }
   ],
   "source": [
    "plt.figure(figsize=[16,10])\n",
    "prices_df['Open'].plot(label = 'price')\n",
    "plt.hlines(\n",
    "    avg_price, \n",
    "    xmin=prices_df.index[0],\n",
    "    xmax= prices_df.index[-1],\n",
    "    colors = 'red',\n",
    "    linestyles= 'dashed',\n",
    "    label='mean'\n",
    ")\n",
    "plt.hlines(\n",
    "    avg_price + std_price, \n",
    "    xmin=prices_df.index[0],\n",
    "    xmax= prices_df.index[-1],\n",
    "    colors = 'black',\n",
    "    linestyles='dashed',\n",
    "    label= 'mean +- std'\n",
    ")\n",
    "plt.hlines(\n",
    "    avg_price - std_price, \n",
    "    xmin=prices_df.index[0],\n",
    "    xmax= prices_df.index[-1],\n",
    "    colors = 'black',\n",
    "    linestyles='dashed',\n",
    "    label = ''\n",
    ")\n",
    "\n",
    "plt.legend()\n",
    "plt.title(\"USDBRL prices variation in 60d\")"
   ]
  },
  {
   "cell_type": "code",
   "execution_count": null,
   "metadata": {},
   "outputs": [],
   "source": []
  },
  {
   "cell_type": "code",
   "execution_count": 17,
   "metadata": {},
   "outputs": [
    {
     "data": {
      "text/plain": [
       "5841"
      ]
     },
     "execution_count": 17,
     "metadata": {},
     "output_type": "execute_result"
    }
   ],
   "source": [
    "prices_df.groupby(\"date\")\\\n",
    "    .nunique()\\\n",
    "    .Close\\\n",
    "    .sum()"
   ]
  }
 ],
 "metadata": {
  "kernelspec": {
   "display_name": "base",
   "language": "python",
   "name": "python3"
  },
  "language_info": {
   "codemirror_mode": {
    "name": "ipython",
    "version": 3
   },
   "file_extension": ".py",
   "mimetype": "text/x-python",
   "name": "python",
   "nbconvert_exporter": "python",
   "pygments_lexer": "ipython3",
   "version": "3.9.12"
  },
  "orig_nbformat": 4,
  "vscode": {
   "interpreter": {
    "hash": "f08154012ddadd8e950e6e9e035c7a7b32c136e7647e9b7c77e02eb723a8bedb"
   }
  }
 },
 "nbformat": 4,
 "nbformat_minor": 2
}
