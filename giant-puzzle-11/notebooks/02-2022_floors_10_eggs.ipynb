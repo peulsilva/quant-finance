{
 "cells": [
  {
   "cell_type": "code",
   "execution_count": 1,
   "metadata": {},
   "outputs": [],
   "source": [
    "%load_ext autoreload\n",
    "%autoreload 2"
   ]
  },
  {
   "cell_type": "code",
   "execution_count": 2,
   "metadata": {},
   "outputs": [],
   "source": [
    "import os\n",
    "if 'notebooks' in os.getcwd():\n",
    "    os.chdir('..')\n",
    "\n",
    "import numpy as np\n",
    "import pandas as pd\n",
    "from tqdm import tqdm\n",
    "import seaborn as sns\n",
    "import matplotlib.pyplot as plt\n",
    "from src.eggs_experiment import eggs_experiment"
   ]
  },
  {
   "cell_type": "code",
   "execution_count": 3,
   "metadata": {},
   "outputs": [
    {
     "name": "stderr",
     "output_type": "stream",
     "text": [
      "  0%|          | 0/10000 [00:00<?, ?it/s]"
     ]
    },
    {
     "name": "stdout",
     "output_type": "stream",
     "text": [
      "> \u001b[1;32mc:\\users\\user\\desktop\\code\\quant-finance\\giant-puzzle-11\\src\\eggs_experiment.py\u001b[0m(64)\u001b[0;36meggs_experiment\u001b[1;34m()\u001b[0m\n",
      "\u001b[1;32m     60 \u001b[1;33m    \u001b[1;32mif\u001b[0m \u001b[0mbroken_floor\u001b[0m \u001b[1;33m!=\u001b[0m \u001b[0mhighest_floor\u001b[0m\u001b[1;33m:\u001b[0m\u001b[1;33m\u001b[0m\u001b[1;33m\u001b[0m\u001b[0m\n",
      "\u001b[0m\u001b[1;32m     61 \u001b[1;33m        \u001b[1;32mimport\u001b[0m \u001b[0mpdb\u001b[0m\u001b[1;33m\u001b[0m\u001b[1;33m\u001b[0m\u001b[0m\n",
      "\u001b[0m\u001b[1;32m     62 \u001b[1;33m        \u001b[0mpdb\u001b[0m\u001b[1;33m.\u001b[0m\u001b[0mset_trace\u001b[0m\u001b[1;33m(\u001b[0m\u001b[1;33m)\u001b[0m\u001b[1;33m\u001b[0m\u001b[1;33m\u001b[0m\u001b[0m\n",
      "\u001b[0m\u001b[1;32m     63 \u001b[1;33m\u001b[1;33m\u001b[0m\u001b[0m\n",
      "\u001b[0m\u001b[1;32m---> 64 \u001b[1;33m    \u001b[1;32mreturn\u001b[0m \u001b[0mnum_tries\u001b[0m\u001b[1;33m,\u001b[0m \u001b[0mbroken_floor\u001b[0m\u001b[1;33m,\u001b[0m \u001b[0mhighest_floor\u001b[0m\u001b[1;33m\u001b[0m\u001b[1;33m\u001b[0m\u001b[0m\n",
      "\u001b[0m\n",
      "1699\n",
      "1699\n",
      "1698\n",
      "1698\n",
      "1698\n",
      "1698\n",
      "1698\n",
      "1698\n",
      "1698\n",
      "[1011, 1516, 1769, 1643, 1706, 1675, 1690, 1698, 1702, 1700, 1699, 1700]\n",
      "[1011, 1516, 1769, 1643, 1706, 1675, 1690, 1698, 1702, 1700, 1699, 1700]\n",
      "[1011, 1516, 1769, 1643, 1706, 1675, 1690, 1698, 1702, 1700, 1699, 1700]\n",
      "[1011, 1516, 1769, 1643, 1706, 1675, 1690, 1698, 1702, 1700, 1699, 1700]\n",
      "[1011, 1516, 1769, 1643, 1706, 1675, 1690, 1698, 1702, 1700, 1699, 1700]\n",
      "[1011, 1516, 1769, 1643, 1706, 1675, 1690, 1698, 1702, 1700, 1699, 1700]\n",
      "[1011, 1516, 1769, 1643, 1706, 1675, 1690, 1698, 1702, 1700, 1699, 1700]\n",
      "[1011, 1516, 1769, 1643, 1706, 1675, 1690, 1698, 1702, 1700, 1699, 1700]\n",
      "[1011, 1516, 1769, 1643, 1706, 1675, 1690, 1698, 1702, 1700, 1699, 1700]\n",
      "[1011, 1516, 1769, 1643, 1706, 1675, 1690, 1698, 1702, 1700, 1699, 1700]\n",
      "[1011, 1516, 1769, 1643, 1706, 1675, 1690, 1698, 1702, 1700, 1699, 1700]\n",
      "[1011, 1516, 1769, 1643, 1706, 1675, 1690, 1698, 1702, 1700, 1699, 1700]\n",
      "[1011, 1516, 1769, 1643, 1706, 1675, 1690, 1698, 1702, 1700, 1699, 1700]\n",
      "[1011, 1516, 1769, 1643, 1706, 1675, 1690, 1698, 1702, 1700, 1699, 1700]\n",
      "[1011, 1516, 1769, 1643, 1706, 1675, 1690, 1698, 1702, 1700, 1699, 1700]\n",
      "[1011, 1516, 1769, 1643, 1706, 1675, 1690, 1698, 1702, 1700, 1699, 1700]\n"
     ]
    }
   ],
   "source": [
    "N_TRIES = int(1e4)\n",
    "results = { step : [] for step in range(2,50 )}\n",
    "for step in range(2,50):\n",
    "    for i in tqdm(range(N_TRIES)):\n",
    "        num_tries, broken_floor, highest_floor = eggs_experiment(10, 2022, step)\n",
    "        if (broken_floor!=highest_floor):\n",
    "            print(broken_floor, highest_floor)\n",
    "            break\n",
    "        results[step].append(num_tries)"
   ]
  },
  {
   "cell_type": "code",
   "execution_count": null,
   "metadata": {},
   "outputs": [],
   "source": []
  }
 ],
 "metadata": {
  "kernelspec": {
   "display_name": "base",
   "language": "python",
   "name": "python3"
  },
  "language_info": {
   "codemirror_mode": {
    "name": "ipython",
    "version": 3
   },
   "file_extension": ".py",
   "mimetype": "text/x-python",
   "name": "python",
   "nbconvert_exporter": "python",
   "pygments_lexer": "ipython3",
   "version": "3.9.12"
  },
  "orig_nbformat": 4,
  "vscode": {
   "interpreter": {
    "hash": "f08154012ddadd8e950e6e9e035c7a7b32c136e7647e9b7c77e02eb723a8bedb"
   }
  }
 },
 "nbformat": 4,
 "nbformat_minor": 2
}
